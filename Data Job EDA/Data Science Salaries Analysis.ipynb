{
 "cells": [
  {
   "cell_type": "markdown",
   "id": "e7e55187",
   "metadata": {},
   "source": [
    "# Data Science Job Salary Analysis"
   ]
  },
  {
   "cell_type": "code",
   "execution_count": 1,
   "id": "5a9b97f5",
   "metadata": {},
   "outputs": [],
   "source": [
    "import pandas as pd\n",
    "import numpy as np\n",
    "import matplotlib.pyplot as plt\n",
    "%matplotlib inline"
   ]
  },
  {
   "cell_type": "code",
   "execution_count": 2,
   "id": "9bf09d3f",
   "metadata": {},
   "outputs": [],
   "source": [
    "filename = \"D:\\datasets\\data science salaries\\ds_salaries.csv\""
   ]
  },
  {
   "cell_type": "code",
   "execution_count": 3,
   "id": "4232b5f1",
   "metadata": {},
   "outputs": [
    {
     "data": {
      "text/html": [
       "<div>\n",
       "<style scoped>\n",
       "    .dataframe tbody tr th:only-of-type {\n",
       "        vertical-align: middle;\n",
       "    }\n",
       "\n",
       "    .dataframe tbody tr th {\n",
       "        vertical-align: top;\n",
       "    }\n",
       "\n",
       "    .dataframe thead th {\n",
       "        text-align: right;\n",
       "    }\n",
       "</style>\n",
       "<table border=\"1\" class=\"dataframe\">\n",
       "  <thead>\n",
       "    <tr style=\"text-align: right;\">\n",
       "      <th></th>\n",
       "      <th>id</th>\n",
       "      <th>work_year</th>\n",
       "      <th>experience_level</th>\n",
       "      <th>employment_type</th>\n",
       "      <th>job_title</th>\n",
       "      <th>salary</th>\n",
       "      <th>salary_currency</th>\n",
       "      <th>salary_in_usd</th>\n",
       "      <th>employee_residence</th>\n",
       "      <th>remote_ratio</th>\n",
       "      <th>company_location</th>\n",
       "      <th>company_size</th>\n",
       "    </tr>\n",
       "  </thead>\n",
       "  <tbody>\n",
       "    <tr>\n",
       "      <th>0</th>\n",
       "      <td>0</td>\n",
       "      <td>2020</td>\n",
       "      <td>MI</td>\n",
       "      <td>FT</td>\n",
       "      <td>Data Scientist</td>\n",
       "      <td>70000</td>\n",
       "      <td>EUR</td>\n",
       "      <td>79833</td>\n",
       "      <td>DE</td>\n",
       "      <td>0</td>\n",
       "      <td>DE</td>\n",
       "      <td>L</td>\n",
       "    </tr>\n",
       "    <tr>\n",
       "      <th>1</th>\n",
       "      <td>1</td>\n",
       "      <td>2020</td>\n",
       "      <td>SE</td>\n",
       "      <td>FT</td>\n",
       "      <td>Machine Learning Scientist</td>\n",
       "      <td>260000</td>\n",
       "      <td>USD</td>\n",
       "      <td>260000</td>\n",
       "      <td>JP</td>\n",
       "      <td>0</td>\n",
       "      <td>JP</td>\n",
       "      <td>S</td>\n",
       "    </tr>\n",
       "    <tr>\n",
       "      <th>2</th>\n",
       "      <td>2</td>\n",
       "      <td>2020</td>\n",
       "      <td>SE</td>\n",
       "      <td>FT</td>\n",
       "      <td>Big Data Engineer</td>\n",
       "      <td>85000</td>\n",
       "      <td>GBP</td>\n",
       "      <td>109024</td>\n",
       "      <td>GB</td>\n",
       "      <td>50</td>\n",
       "      <td>GB</td>\n",
       "      <td>M</td>\n",
       "    </tr>\n",
       "    <tr>\n",
       "      <th>3</th>\n",
       "      <td>3</td>\n",
       "      <td>2020</td>\n",
       "      <td>MI</td>\n",
       "      <td>FT</td>\n",
       "      <td>Product Data Analyst</td>\n",
       "      <td>20000</td>\n",
       "      <td>USD</td>\n",
       "      <td>20000</td>\n",
       "      <td>HN</td>\n",
       "      <td>0</td>\n",
       "      <td>HN</td>\n",
       "      <td>S</td>\n",
       "    </tr>\n",
       "    <tr>\n",
       "      <th>4</th>\n",
       "      <td>4</td>\n",
       "      <td>2020</td>\n",
       "      <td>SE</td>\n",
       "      <td>FT</td>\n",
       "      <td>Machine Learning Engineer</td>\n",
       "      <td>150000</td>\n",
       "      <td>USD</td>\n",
       "      <td>150000</td>\n",
       "      <td>US</td>\n",
       "      <td>50</td>\n",
       "      <td>US</td>\n",
       "      <td>L</td>\n",
       "    </tr>\n",
       "    <tr>\n",
       "      <th>...</th>\n",
       "      <td>...</td>\n",
       "      <td>...</td>\n",
       "      <td>...</td>\n",
       "      <td>...</td>\n",
       "      <td>...</td>\n",
       "      <td>...</td>\n",
       "      <td>...</td>\n",
       "      <td>...</td>\n",
       "      <td>...</td>\n",
       "      <td>...</td>\n",
       "      <td>...</td>\n",
       "      <td>...</td>\n",
       "    </tr>\n",
       "    <tr>\n",
       "      <th>602</th>\n",
       "      <td>602</td>\n",
       "      <td>2022</td>\n",
       "      <td>SE</td>\n",
       "      <td>FT</td>\n",
       "      <td>Data Engineer</td>\n",
       "      <td>154000</td>\n",
       "      <td>USD</td>\n",
       "      <td>154000</td>\n",
       "      <td>US</td>\n",
       "      <td>100</td>\n",
       "      <td>US</td>\n",
       "      <td>M</td>\n",
       "    </tr>\n",
       "    <tr>\n",
       "      <th>603</th>\n",
       "      <td>603</td>\n",
       "      <td>2022</td>\n",
       "      <td>SE</td>\n",
       "      <td>FT</td>\n",
       "      <td>Data Engineer</td>\n",
       "      <td>126000</td>\n",
       "      <td>USD</td>\n",
       "      <td>126000</td>\n",
       "      <td>US</td>\n",
       "      <td>100</td>\n",
       "      <td>US</td>\n",
       "      <td>M</td>\n",
       "    </tr>\n",
       "    <tr>\n",
       "      <th>604</th>\n",
       "      <td>604</td>\n",
       "      <td>2022</td>\n",
       "      <td>SE</td>\n",
       "      <td>FT</td>\n",
       "      <td>Data Analyst</td>\n",
       "      <td>129000</td>\n",
       "      <td>USD</td>\n",
       "      <td>129000</td>\n",
       "      <td>US</td>\n",
       "      <td>0</td>\n",
       "      <td>US</td>\n",
       "      <td>M</td>\n",
       "    </tr>\n",
       "    <tr>\n",
       "      <th>605</th>\n",
       "      <td>605</td>\n",
       "      <td>2022</td>\n",
       "      <td>SE</td>\n",
       "      <td>FT</td>\n",
       "      <td>Data Analyst</td>\n",
       "      <td>150000</td>\n",
       "      <td>USD</td>\n",
       "      <td>150000</td>\n",
       "      <td>US</td>\n",
       "      <td>100</td>\n",
       "      <td>US</td>\n",
       "      <td>M</td>\n",
       "    </tr>\n",
       "    <tr>\n",
       "      <th>606</th>\n",
       "      <td>606</td>\n",
       "      <td>2022</td>\n",
       "      <td>MI</td>\n",
       "      <td>FT</td>\n",
       "      <td>AI Scientist</td>\n",
       "      <td>200000</td>\n",
       "      <td>USD</td>\n",
       "      <td>200000</td>\n",
       "      <td>IN</td>\n",
       "      <td>100</td>\n",
       "      <td>US</td>\n",
       "      <td>L</td>\n",
       "    </tr>\n",
       "  </tbody>\n",
       "</table>\n",
       "<p>607 rows × 12 columns</p>\n",
       "</div>"
      ],
      "text/plain": [
       "      id  work_year experience_level employment_type  \\\n",
       "0      0       2020               MI              FT   \n",
       "1      1       2020               SE              FT   \n",
       "2      2       2020               SE              FT   \n",
       "3      3       2020               MI              FT   \n",
       "4      4       2020               SE              FT   \n",
       "..   ...        ...              ...             ...   \n",
       "602  602       2022               SE              FT   \n",
       "603  603       2022               SE              FT   \n",
       "604  604       2022               SE              FT   \n",
       "605  605       2022               SE              FT   \n",
       "606  606       2022               MI              FT   \n",
       "\n",
       "                      job_title  salary salary_currency  salary_in_usd  \\\n",
       "0                Data Scientist   70000             EUR          79833   \n",
       "1    Machine Learning Scientist  260000             USD         260000   \n",
       "2             Big Data Engineer   85000             GBP         109024   \n",
       "3          Product Data Analyst   20000             USD          20000   \n",
       "4     Machine Learning Engineer  150000             USD         150000   \n",
       "..                          ...     ...             ...            ...   \n",
       "602               Data Engineer  154000             USD         154000   \n",
       "603               Data Engineer  126000             USD         126000   \n",
       "604                Data Analyst  129000             USD         129000   \n",
       "605                Data Analyst  150000             USD         150000   \n",
       "606                AI Scientist  200000             USD         200000   \n",
       "\n",
       "    employee_residence  remote_ratio company_location company_size  \n",
       "0                   DE             0               DE            L  \n",
       "1                   JP             0               JP            S  \n",
       "2                   GB            50               GB            M  \n",
       "3                   HN             0               HN            S  \n",
       "4                   US            50               US            L  \n",
       "..                 ...           ...              ...          ...  \n",
       "602                 US           100               US            M  \n",
       "603                 US           100               US            M  \n",
       "604                 US             0               US            M  \n",
       "605                 US           100               US            M  \n",
       "606                 IN           100               US            L  \n",
       "\n",
       "[607 rows x 12 columns]"
      ]
     },
     "execution_count": 3,
     "metadata": {},
     "output_type": "execute_result"
    }
   ],
   "source": [
    "df = pd.read_csv(filename)\n",
    "df"
   ]
  },
  {
   "cell_type": "markdown",
   "id": "0ec6f3c0",
   "metadata": {},
   "source": [
    "## About this file\n",
    "\n",
    "The Data Science Salaries Dataset provides insights into the compensation trends within the field of data science across various industries, locations, experience levels, and job roles. This dataset typically includes information such as:\n",
    "\n",
    "Job Title/Role: Descriptive labels indicating the specific position or role within the data science field, such as Data Scientist, Data Analyst, Machine Learning Engineer, etc.\n",
    "\n",
    "Salary: Numeric values representing the annual or monthly compensation for each position. Salaries may be reported in different currencies and formats (e.g., gross salary, base salary, total compensation including bonuses and benefits).\n",
    "\n",
    "Location: Geographic location where the job is based, often categorized by country, city, or region. Location can significantly influence salary levels due to variations in cost of living and demand for data science talent.\n",
    "\n",
    "Experience Level: Information about the level of experience required or possessed by individuals in each role. This may include categories like entry-level, mid-level, senior-level, or years of experience in the field.\n",
    "\n",
    "Education Level: The educational background or qualifications typically expected for each role, such as bachelor's degree, master's degree, PhD, or relevant certifications.\n",
    "\n",
    "Skills and Technologies: Listing of specific skills, tools, programming languages, and technologies relevant to each role. This can include proficiency in programming languages like Python or R, knowledge of machine learning algorithms, experience with data visualization tools, and familiarity with database systems.\n",
    "\n",
    "Industry: Classification of the industry or sector in which the job is situated, such as technology, finance, healthcare, retail, etc.\n",
    "\n",
    "Company Size: Information about the size of the employing company, often categorized by the number of employees or revenue.\n",
    "\n",
    "Benefits and Perks: Additional non-monetary benefits or perks offered to employees, such as stock options, health insurance, flexible work arrangements, and professional development opportunities.\n",
    "\n",
    "Survey Source: Information about the source of the salary data, such as surveys conducted by industry associations, job boards, recruitment agencies, or companies themselves.\n",
    "\n",
    "The Data Science Salaries Dataset serves as a valuable resource for job seekers, employers, researchers, and policymakers to understand the compensation landscape within the data science industry, identify emerging trends, benchmark salaries, and make informed decisions related to talent acquisition, career development, and compensation strategy."
   ]
  },
  {
   "cell_type": "code",
   "execution_count": 4,
   "id": "55db88b0",
   "metadata": {},
   "outputs": [
    {
     "data": {
      "text/html": [
       "<div>\n",
       "<style scoped>\n",
       "    .dataframe tbody tr th:only-of-type {\n",
       "        vertical-align: middle;\n",
       "    }\n",
       "\n",
       "    .dataframe tbody tr th {\n",
       "        vertical-align: top;\n",
       "    }\n",
       "\n",
       "    .dataframe thead th {\n",
       "        text-align: right;\n",
       "    }\n",
       "</style>\n",
       "<table border=\"1\" class=\"dataframe\">\n",
       "  <thead>\n",
       "    <tr style=\"text-align: right;\">\n",
       "      <th></th>\n",
       "      <th>0</th>\n",
       "    </tr>\n",
       "  </thead>\n",
       "  <tbody>\n",
       "    <tr>\n",
       "      <th>0</th>\n",
       "      <td>FT</td>\n",
       "    </tr>\n",
       "    <tr>\n",
       "      <th>1</th>\n",
       "      <td>CT</td>\n",
       "    </tr>\n",
       "    <tr>\n",
       "      <th>2</th>\n",
       "      <td>PT</td>\n",
       "    </tr>\n",
       "    <tr>\n",
       "      <th>3</th>\n",
       "      <td>FL</td>\n",
       "    </tr>\n",
       "  </tbody>\n",
       "</table>\n",
       "</div>"
      ],
      "text/plain": [
       "    0\n",
       "0  FT\n",
       "1  CT\n",
       "2  PT\n",
       "3  FL"
      ]
     },
     "execution_count": 4,
     "metadata": {},
     "output_type": "execute_result"
    }
   ],
   "source": [
    "pd.DataFrame(df['employment_type'].unique())"
   ]
  },
  {
   "cell_type": "markdown",
   "id": "34a382a7",
   "metadata": {},
   "source": [
    "## Understanding the variables\n",
    "\n",
    "**FT** :- Full-Time \\\n",
    "**CT** :- Contractual \\\n",
    "**PT** :- Part-time \\\n",
    "**FL** :- Freelancer"
   ]
  },
  {
   "cell_type": "code",
   "execution_count": 5,
   "id": "0d97bb26",
   "metadata": {
    "scrolled": true
   },
   "outputs": [
    {
     "data": {
      "text/html": [
       "<div>\n",
       "<style scoped>\n",
       "    .dataframe tbody tr th:only-of-type {\n",
       "        vertical-align: middle;\n",
       "    }\n",
       "\n",
       "    .dataframe tbody tr th {\n",
       "        vertical-align: top;\n",
       "    }\n",
       "\n",
       "    .dataframe thead th {\n",
       "        text-align: right;\n",
       "    }\n",
       "</style>\n",
       "<table border=\"1\" class=\"dataframe\">\n",
       "  <thead>\n",
       "    <tr style=\"text-align: right;\">\n",
       "      <th></th>\n",
       "      <th>0</th>\n",
       "    </tr>\n",
       "  </thead>\n",
       "  <tbody>\n",
       "    <tr>\n",
       "      <th>0</th>\n",
       "      <td>MI</td>\n",
       "    </tr>\n",
       "    <tr>\n",
       "      <th>1</th>\n",
       "      <td>SE</td>\n",
       "    </tr>\n",
       "    <tr>\n",
       "      <th>2</th>\n",
       "      <td>EN</td>\n",
       "    </tr>\n",
       "    <tr>\n",
       "      <th>3</th>\n",
       "      <td>EX</td>\n",
       "    </tr>\n",
       "  </tbody>\n",
       "</table>\n",
       "</div>"
      ],
      "text/plain": [
       "    0\n",
       "0  MI\n",
       "1  SE\n",
       "2  EN\n",
       "3  EX"
      ]
     },
     "execution_count": 5,
     "metadata": {},
     "output_type": "execute_result"
    }
   ],
   "source": [
    "pd.DataFrame(df['experience_level'].unique())"
   ]
  },
  {
   "cell_type": "markdown",
   "id": "56903b96",
   "metadata": {},
   "source": [
    "**MI** :- Mid-Level \\\n",
    "**SE** :- Senior Level \\\n",
    "**EN** :- Entry Level \\\n",
    "**EX** :- Executive Level"
   ]
  },
  {
   "cell_type": "code",
   "execution_count": 6,
   "id": "371d3dbd",
   "metadata": {},
   "outputs": [
    {
     "data": {
      "text/html": [
       "<div>\n",
       "<style scoped>\n",
       "    .dataframe tbody tr th:only-of-type {\n",
       "        vertical-align: middle;\n",
       "    }\n",
       "\n",
       "    .dataframe tbody tr th {\n",
       "        vertical-align: top;\n",
       "    }\n",
       "\n",
       "    .dataframe thead th {\n",
       "        text-align: right;\n",
       "    }\n",
       "</style>\n",
       "<table border=\"1\" class=\"dataframe\">\n",
       "  <thead>\n",
       "    <tr style=\"text-align: right;\">\n",
       "      <th></th>\n",
       "      <th>0</th>\n",
       "    </tr>\n",
       "  </thead>\n",
       "  <tbody>\n",
       "    <tr>\n",
       "      <th>0</th>\n",
       "      <td>3D Computer Vision Researcher</td>\n",
       "    </tr>\n",
       "    <tr>\n",
       "      <th>1</th>\n",
       "      <td>AI Scientist</td>\n",
       "    </tr>\n",
       "    <tr>\n",
       "      <th>2</th>\n",
       "      <td>Analytics Engineer</td>\n",
       "    </tr>\n",
       "    <tr>\n",
       "      <th>3</th>\n",
       "      <td>Applied Data Scientist</td>\n",
       "    </tr>\n",
       "    <tr>\n",
       "      <th>4</th>\n",
       "      <td>Applied Machine Learning Scientist</td>\n",
       "    </tr>\n",
       "  </tbody>\n",
       "</table>\n",
       "</div>"
      ],
      "text/plain": [
       "                                    0\n",
       "0       3D Computer Vision Researcher\n",
       "1                        AI Scientist\n",
       "2                  Analytics Engineer\n",
       "3              Applied Data Scientist\n",
       "4  Applied Machine Learning Scientist"
      ]
     },
     "execution_count": 6,
     "metadata": {},
     "output_type": "execute_result"
    }
   ],
   "source": [
    "pd.DataFrame(sorted(df['job_title'].unique())).head(5)"
   ]
  },
  {
   "cell_type": "markdown",
   "id": "3329005a",
   "metadata": {},
   "source": [
    "There are 50 different job title in the data. **Cool!**\n"
   ]
  },
  {
   "cell_type": "code",
   "execution_count": 7,
   "id": "16cf0654",
   "metadata": {},
   "outputs": [
    {
     "data": {
      "text/html": [
       "<div>\n",
       "<style scoped>\n",
       "    .dataframe tbody tr th:only-of-type {\n",
       "        vertical-align: middle;\n",
       "    }\n",
       "\n",
       "    .dataframe tbody tr th {\n",
       "        vertical-align: top;\n",
       "    }\n",
       "\n",
       "    .dataframe thead th {\n",
       "        text-align: right;\n",
       "    }\n",
       "</style>\n",
       "<table border=\"1\" class=\"dataframe\">\n",
       "  <thead>\n",
       "    <tr style=\"text-align: right;\">\n",
       "      <th></th>\n",
       "      <th>0</th>\n",
       "    </tr>\n",
       "  </thead>\n",
       "  <tbody>\n",
       "    <tr>\n",
       "      <th>0</th>\n",
       "      <td>L</td>\n",
       "    </tr>\n",
       "    <tr>\n",
       "      <th>1</th>\n",
       "      <td>S</td>\n",
       "    </tr>\n",
       "    <tr>\n",
       "      <th>2</th>\n",
       "      <td>M</td>\n",
       "    </tr>\n",
       "  </tbody>\n",
       "</table>\n",
       "</div>"
      ],
      "text/plain": [
       "   0\n",
       "0  L\n",
       "1  S\n",
       "2  M"
      ]
     },
     "execution_count": 7,
     "metadata": {},
     "output_type": "execute_result"
    }
   ],
   "source": [
    "pd.DataFrame(df['company_size'].unique())"
   ]
  },
  {
   "cell_type": "code",
   "execution_count": 8,
   "id": "93b3ea9f",
   "metadata": {},
   "outputs": [
    {
     "data": {
      "text/plain": [
       "(607, 12)"
      ]
     },
     "execution_count": 8,
     "metadata": {},
     "output_type": "execute_result"
    }
   ],
   "source": [
    "df.shape"
   ]
  },
  {
   "cell_type": "markdown",
   "id": "9ce28621",
   "metadata": {},
   "source": [
    "**L** :- company that have 1000+ employees. \\\n",
    "**M** :- company that have 100-999 employees. \\\n",
    "**S** :- company that have 26-99 employees."
   ]
  },
  {
   "cell_type": "code",
   "execution_count": 9,
   "id": "0597c42e",
   "metadata": {},
   "outputs": [
    {
     "data": {
      "text/html": [
       "<div>\n",
       "<style scoped>\n",
       "    .dataframe tbody tr th:only-of-type {\n",
       "        vertical-align: middle;\n",
       "    }\n",
       "\n",
       "    .dataframe tbody tr th {\n",
       "        vertical-align: top;\n",
       "    }\n",
       "\n",
       "    .dataframe thead th {\n",
       "        text-align: right;\n",
       "    }\n",
       "</style>\n",
       "<table border=\"1\" class=\"dataframe\">\n",
       "  <thead>\n",
       "    <tr style=\"text-align: right;\">\n",
       "      <th></th>\n",
       "      <th>work_year</th>\n",
       "    </tr>\n",
       "  </thead>\n",
       "  <tbody>\n",
       "    <tr>\n",
       "      <th>2022</th>\n",
       "      <td>318</td>\n",
       "    </tr>\n",
       "    <tr>\n",
       "      <th>2021</th>\n",
       "      <td>217</td>\n",
       "    </tr>\n",
       "    <tr>\n",
       "      <th>2020</th>\n",
       "      <td>72</td>\n",
       "    </tr>\n",
       "  </tbody>\n",
       "</table>\n",
       "</div>"
      ],
      "text/plain": [
       "      work_year\n",
       "2022        318\n",
       "2021        217\n",
       "2020         72"
      ]
     },
     "execution_count": 9,
     "metadata": {},
     "output_type": "execute_result"
    }
   ],
   "source": [
    "pd.DataFrame(df['work_year'].value_counts())"
   ]
  },
  {
   "cell_type": "markdown",
   "id": "12b95cf4",
   "metadata": {},
   "source": [
    "2022 have the most count of data related jobs. Notice that, the count in 2021 tripled prior to that year."
   ]
  },
  {
   "cell_type": "code",
   "execution_count": 12,
   "id": "3523051e",
   "metadata": {
    "scrolled": true
   },
   "outputs": [],
   "source": [
    "job_202X = df['work_year'].value_counts()"
   ]
  },
  {
   "cell_type": "code",
   "execution_count": 13,
   "id": "c328b07b",
   "metadata": {},
   "outputs": [
    {
     "data": {
      "image/png": "[encoded data removed]",
      "text/plain": [
       "<Figure size 720x360 with 1 Axes>"
      ]
     },
     "metadata": {
      "needs_background": "light"
     },
     "output_type": "display_data"
    }
   ],
   "source": [
    "plt.figure(figsize=(10,5))\n",
    "\n",
    "plt.bar(job_202X.index,job_202X)\n",
    "\n",
    "plt.title(\"Data Science Job Count by Year\", size=20 )\n",
    "plt.xlabel(\"Years\", size=10)\n",
    "plt.xticks(job_202X.index)\n",
    "plt.ylabel(\"Counts\", size=10)\n",
    "\n",
    "plt.show()"
   ]
  },
  {
   "cell_type": "markdown",
   "id": "d7f5b681",
   "metadata": {},
   "source": [
    "As shown in the data, there has been an increase of Data Science Jobs throughout the year. There are 72, 217 and 318 Jobs for 2020, 2021 and 2022, respectively. The count of Data related jobs tripled in 2021. "
   ]
  },
  {
   "cell_type": "code",
   "execution_count": 14,
   "id": "6478bffc",
   "metadata": {
    "scrolled": true
   },
   "outputs": [],
   "source": [
    "title_count = df['job_title'].value_counts()"
   ]
  },
  {
   "cell_type": "markdown",
   "id": "c60aeaba",
   "metadata": {},
   "source": [
    "There are too many in the list. We are going to limit the list into the top 10 only and merge the others."
   ]
  },
  {
   "cell_type": "code",
   "execution_count": 15,
   "id": "82b69ee9",
   "metadata": {
    "scrolled": true
   },
   "outputs": [],
   "source": [
    "df_title = pd.DataFrame(\n",
    "    data = {'job_title': title_count.index, 'count' : title_count},\n",
    "    ).sort_values('count', ascending = False)\n",
    "\n",
    "#the top 5\n",
    "df_title2 = df_title[:10].copy()\n",
    "\n",
    "#others\n",
    "new_row = pd.DataFrame(data = {\n",
    "    'job_title' : ['Others'],\n",
    "    'count' : [df_title['count'][10:].sum()]\n",
    "})\n",
    "\n",
    "#combining top 5 with others\n",
    "df_title3 = pd.concat([df_title2, new_row])"
   ]
  },
  {
   "cell_type": "code",
   "execution_count": 16,
   "id": "83e22f93",
   "metadata": {},
   "outputs": [
    {
     "data": {
      "image/png": "[encoded data removed]",
      "text/plain": [
       "<Figure size 720x432 with 1 Axes>"
      ]
     },
     "metadata": {
      "needs_background": "light"
     },
     "output_type": "display_data"
    }
   ],
   "source": [
    "plt.figure(figsize=(10,6))\n",
    "plt.barh(df_title3['job_title'], df_title3['count'])\n",
    "\n",
    "plt.title(\"Data Science Job by Job Title\", size=20)\n",
    "\n",
    "plt.show()"
   ]
  },
  {
   "cell_type": "markdown",
   "id": "e91c0624",
   "metadata": {},
   "source": [
    "Out of the 50 different Job titles, Data scientist has the most count with 143. Safe to assume that it is the most demanded job."
   ]
  },
  {
   "cell_type": "code",
   "execution_count": null,
   "id": "894e997b",
   "metadata": {},
   "outputs": [],
   "source": [
    "exp_level = df['experience_level'].value_counts()\n",
    "exp_level"
   ]
  },
  {
   "cell_type": "code",
   "execution_count": 125,
   "id": "9e394407",
   "metadata": {
    "scrolled": true
   },
   "outputs": [
    {
     "data": {
      "image/png": "[encoded data removed]",
      "text/plain": [
       "<Figure size 432x288 with 1 Axes>"
      ]
     },
     "metadata": {},
     "output_type": "display_data"
    }
   ],
   "source": [
    "plt.title(\"Total count of each level\", y=1.2)\n",
    "explode=(0.06, 0, 0, 0)\n",
    "plt.pie(exp_level,explode=explode, labels=exp_level.index, shadow=True, autopct='%1.2f%%', radius=1.5, startangle=15)\n",
    "\n",
    "plt.show()"
   ]
  },
  {
   "cell_type": "code",
   "execution_count": null,
   "id": "28056c8a",
   "metadata": {},
   "outputs": [],
   "source": [
    "SE = df.loc[(df['experience_level']) == 'SE'][['work_year', 'experience_level']].groupby('work_year').count()\n",
    "MI = df.loc[(df['experience_level']) == 'MI'][['work_year', 'experience_level']].groupby('work_year').count()\n",
    "EN = df.loc[(df['experience_level']) == 'EN'][['work_year', 'experience_level']].groupby('work_year').count()\n",
    "EX = df.loc[(df['experience_level']) == 'EX'][['work_year', 'experience_level']].groupby('work_year').count()\n",
    "\n",
    "SE = SE['experience_level']\n",
    "MI = MI['experience_level']\n",
    "EN = EN['experience_level']\n",
    "EX = EX['experience_level']"
   ]
  },
  {
   "cell_type": "code",
   "execution_count": 18,
   "id": "ad82fffc",
   "metadata": {},
   "outputs": [
    {
     "data": {
      "image/png": "[encoded data removed]",
      "text/plain": [
       "<Figure size 864x576 with 1 Axes>"
      ]
     },
     "metadata": {
      "needs_background": "light"
     },
     "output_type": "display_data"
    }
   ],
   "source": [
    "barWidth = 0.19\n",
    "fig = plt.subplots(figsize =(12, 8)) \n",
    " \n",
    "# Set position of bar on X axis \n",
    "br1 = np.arange(len(SE))\n",
    "br2 = [x + barWidth for x in br1] \n",
    "br3 = [x + barWidth for x in br2]\n",
    "br4 = [x + barWidth for x in br3]\n",
    " \n",
    "# Make the plot\n",
    "plt.bar(br1, EN, color ='r', width = barWidth, \n",
    "        edgecolor ='grey', label ='EN') \n",
    "plt.bar(br2, MI, color ='g', width = barWidth, \n",
    "        edgecolor ='grey', label ='MI') \n",
    "plt.bar(br3, SE, color ='b', width = barWidth, \n",
    "        edgecolor ='grey', label ='SE') \n",
    "plt.bar(br4, EX, color ='y', width = barWidth, \n",
    "        edgecolor ='grey', label ='EX') \n",
    " \n",
    "# Adding Xticks \n",
    "plt.xlabel('Level', fontweight ='bold', fontsize = 15) \n",
    "plt.ylabel('Job Count', fontweight ='bold', fontsize = 15) \n",
    "plt.xticks([r + barWidth for r in range(len(SE))], \n",
    "        ['2020', '2021', '2022'])\n",
    "plt.title(\"Job Levels by year\", fontweight='bold', fontsize=18)\n",
    "plt.legend()\n",
    "plt.show()"
   ]
  },
  {
   "cell_type": "markdown",
   "id": "4bfaf640",
   "metadata": {},
   "source": [
    "In 2020 and 2021, Middle Level Data related Jobs had the most count but this was overtaken in 2022 by Senior Level atleast doubling the count of Middle Level. Executive level Job is also has the least count in 3 consecutive years."
   ]
  },
  {
   "cell_type": "code",
   "execution_count": 19,
   "id": "2870ea82",
   "metadata": {},
   "outputs": [
    {
     "data": {
      "text/html": [
       "<div>\n",
       "<style scoped>\n",
       "    .dataframe tbody tr th:only-of-type {\n",
       "        vertical-align: middle;\n",
       "    }\n",
       "\n",
       "    .dataframe tbody tr th {\n",
       "        vertical-align: top;\n",
       "    }\n",
       "\n",
       "    .dataframe thead th {\n",
       "        text-align: right;\n",
       "    }\n",
       "</style>\n",
       "<table border=\"1\" class=\"dataframe\">\n",
       "  <thead>\n",
       "    <tr style=\"text-align: right;\">\n",
       "      <th></th>\n",
       "      <th>salary_in_usd</th>\n",
       "    </tr>\n",
       "    <tr>\n",
       "      <th>job_title</th>\n",
       "      <th></th>\n",
       "    </tr>\n",
       "  </thead>\n",
       "  <tbody>\n",
       "    <tr>\n",
       "      <th>Data Engineer</th>\n",
       "      <td>112725.000000</td>\n",
       "    </tr>\n",
       "    <tr>\n",
       "      <th>Research Scientist</th>\n",
       "      <td>109019.500000</td>\n",
       "    </tr>\n",
       "    <tr>\n",
       "      <th>Data Scientist</th>\n",
       "      <td>108187.832168</td>\n",
       "    </tr>\n",
       "    <tr>\n",
       "      <th>Machine Learning Engineer</th>\n",
       "      <td>104880.146341</td>\n",
       "    </tr>\n",
       "    <tr>\n",
       "      <th>Data Analyst</th>\n",
       "      <td>92893.061856</td>\n",
       "    </tr>\n",
       "  </tbody>\n",
       "</table>\n",
       "</div>"
      ],
      "text/plain": [
       "                           salary_in_usd\n",
       "job_title                               \n",
       "Data Engineer              112725.000000\n",
       "Research Scientist         109019.500000\n",
       "Data Scientist             108187.832168\n",
       "Machine Learning Engineer  104880.146341\n",
       "Data Analyst                92893.061856"
      ]
     },
     "execution_count": 19,
     "metadata": {},
     "output_type": "execute_result"
    }
   ],
   "source": [
    "#List the top 5 job roles that has the most count\n",
    "job_role = ['Data Scientist', 'Data Engineer', 'Data Analyst', 'Machine Learning Engineer', 'Research Scientist']\n",
    "\n",
    "#Query only these roles in the main dataframe\n",
    "role_df=df.apply(lambda row: row[df['job_title'].isin([x for x in job_role])])\n",
    "\n",
    "#Group the data by job titles and take the mean of their salary in usd then sort it descendingly.\n",
    "roles_salary=role_df[['job_title','salary_in_usd']].groupby('job_title').mean().sort_values('salary_in_usd', ascending=False)\n",
    "roles_salary"
   ]
  },
  {
   "cell_type": "markdown",
   "id": "d8b12dda",
   "metadata": {},
   "source": [
    "In the table above, Data Engineers have the highest average salary and Data Analyst being the least."
   ]
  },
  {
   "cell_type": "code",
   "execution_count": 20,
   "id": "6e23f03d",
   "metadata": {},
   "outputs": [],
   "source": [
    "#Query the mean salary of the top 5 job roles\n",
    "roles_salary2=role_df[['job_title','salary_in_usd','work_year']].groupby(['job_title', 'work_year']).mean()\n",
    "\n",
    "#Mean salary of Data Analyst\n",
    "DA=roles_salary2.iloc[:3].sort_values('salary_in_usd', ascending=False)\n",
    "\n",
    "#Mean salary of Data engineer\n",
    "DE=roles_salary2.iloc[3:6].sort_values('salary_in_usd', ascending=False)\n",
    "\n",
    "#Mean salary of Data Scientist\n",
    "DS=roles_salary2.iloc[6:9].sort_values('salary_in_usd', ascending=False)\n",
    "\n",
    "#Mean salary of Machine Learning Engineer\n",
    "MLE=roles_salary2.iloc[9:12].sort_values('salary_in_usd', ascending=False)\n",
    "\n",
    "#Mean salary of Research Scientist\n",
    "RS=roles_salary2.iloc[12:15].sort_values('salary_in_usd', ascending=False)"
   ]
  },
  {
   "cell_type": "code",
   "execution_count": 21,
   "id": "c6c3238a",
   "metadata": {},
   "outputs": [
    {
     "data": {
      "image/png": "[encoded data removed]",
      "text/plain": [
       "<Figure size 864x576 with 1 Axes>"
      ]
     },
     "metadata": {
      "needs_background": "light"
     },
     "output_type": "display_data"
    }
   ],
   "source": [
    "work_years = ['2022', '2021', '2020']\n",
    "\n",
    "fig = plt.subplots(figsize=(12,8))\n",
    "\n",
    "plt.plot(work_years, DS, linewidth=2.5)\n",
    "plt.plot(work_years, DE, linewidth=2.5)\n",
    "plt.plot(work_years, DA, linewidth=2.5)\n",
    "plt.plot(work_years, MLE, linewidth=2.5)\n",
    "plt.plot(work_years, RS, linewidth=2.5)\n",
    "\n",
    "#invert the x axis\n",
    "plt.gca().invert_xaxis()\n",
    "\n",
    "#adding labels\n",
    "plt.xlabel(\"Years\", fontweight='bold', fontsize=15)\n",
    "plt.ylabel(\"Salary(in USD)\", fontweight='bold', fontsize=15)\n",
    "plt.title(\"Average salary by Job Roles\", fontweight='bold', fontsize=18)\n",
    "\n",
    "\n",
    "plt.legend(job_role)\n",
    "plt.show()"
   ]
  },
  {
   "cell_type": "code",
   "execution_count": 22,
   "id": "dcc09714",
   "metadata": {},
   "outputs": [],
   "source": [
    "#group the data by company size\n",
    "comp_size=df.groupby('company_size').count()[['id']]"
   ]
  },
  {
   "cell_type": "code",
   "execution_count": 23,
   "id": "e702dad4",
   "metadata": {},
   "outputs": [
    {
     "data": {
      "image/png": "[encoded data removed]",
      "text/plain": [
       "<Figure size 720x432 with 1 Axes>"
      ]
     },
     "metadata": {
      "needs_background": "light"
     },
     "output_type": "display_data"
    }
   ],
   "source": [
    "fig = plt.subplots(figsize=(10,6))\n",
    "\n",
    "plt.bar(comp_size.index, comp_size['id'], edgecolor='grey')\n",
    "\n",
    "plt.xlabel(\"Company Size\", fontweight='bold', fontsize=15)\n",
    "plt.ylabel(\"Count\", fontweight='bold', fontsize=15)\n",
    "plt.title(\"Data Science Jobs by Company size\", fontweight='bold', fontsize=20)\n",
    "\n",
    "plt.show()"
   ]
  },
  {
   "cell_type": "markdown",
   "id": "a6cb6d97",
   "metadata": {},
   "source": [
    "Medium sized company have the most count of data related jobs while small sized company have the least."
   ]
  },
  {
   "cell_type": "code",
   "execution_count": 24,
   "id": "d1ac3c0b",
   "metadata": {
    "scrolled": true
   },
   "outputs": [],
   "source": [
    "#group the data by company sizes and take their median salary\n",
    "salary_comp_size=df[['company_size','salary_in_usd']].groupby('company_size').mean()"
   ]
  },
  {
   "cell_type": "code",
   "execution_count": 25,
   "id": "8427ffeb",
   "metadata": {},
   "outputs": [
    {
     "data": {
      "image/png": "[encoded data removed]",
      "text/plain": [
       "<Figure size 720x432 with 1 Axes>"
      ]
     },
     "metadata": {
      "needs_background": "light"
     },
     "output_type": "display_data"
    }
   ],
   "source": [
    "fig=plt.subplots(figsize=(10,6))\n",
    "\n",
    "colors=['DarkBlue', 'Blue', 'lightblue']\n",
    "plt.bar(salary_comp_size.index, salary_comp_size['salary_in_usd'], color=colors)\n",
    "\n",
    "plt.xlabel(\"Company size\", fontweight='bold', fontsize=15)\n",
    "plt.ylabel(\"Average Salary\", fontweight='bold', fontsize=15)\n",
    "\n",
    "plt.title(\"Average Salary by Company Size\", fontweight='bold', fontsize=20)\n",
    "\n",
    "plt.show()"
   ]
  },
  {
   "cell_type": "markdown",
   "id": "43c0bdcc",
   "metadata": {},
   "source": [
    "Large companies have better median salaries than the other 2."
   ]
  },
  {
   "cell_type": "code",
   "execution_count": 126,
   "id": "ca70e17c",
   "metadata": {},
   "outputs": [],
   "source": [
    "#Locate the data for data scientist, data engineer and data analyst\n",
    "df_DS=df.loc[(df['job_title']) == 'Data Scientist']\n",
    "df_DE=df.loc[(df['job_title']) == 'Data Engineer']\n",
    "df_DA=df.loc[(df['job_title']) == 'Data Analyst']\n",
    "\n",
    "#then group them in company size then take their mean\n",
    "df_DS2=df_DS.groupby('company_size').mean()\n",
    "df_DE2=df_DE.groupby('company_size').mean()\n",
    "df_DA2=df_DA.groupby('company_size').mean()"
   ]
  },
  {
   "cell_type": "code",
   "execution_count": 124,
   "id": "328dc610",
   "metadata": {},
   "outputs": [
    {
     "data": {
      "image/png": "[encoded data removed]",
      "text/plain": [
       "<Figure size 1080x504 with 3 Axes>"
      ]
     },
     "metadata": {
      "needs_background": "light"
     },
     "output_type": "display_data"
    }
   ],
   "source": [
    "#Set the plot size and title\n",
    "fig=plt.subplots(figsize=(15,7))\n",
    "fig=plt.suptitle(\"Average Salary of Top 3 Data Job Roles By Company Size\", fontweight='bold', fontsize='20')\n",
    "\n",
    "#plot for Data Scientist\n",
    "plt.subplot(1,3,1)\n",
    "plt.bar(df_DS2.index,df_DS2['salary_in_usd'])\n",
    "\n",
    "plt.yticks([20000,40000,60000,80000,100000,120000,140000])\n",
    "plt.title(\"Data Scientist\")\n",
    "plt.ylabel(\"Average Salary\", fontweight='bold', fontsize=14)\n",
    "\n",
    "#plot for Data Egineer\n",
    "plt.subplot(1,3,2)\n",
    "plt.bar(df_DE2.index,df_DE2['salary_in_usd'])\n",
    "\n",
    "plt.yticks([20000,40000,60000,80000,100000,120000,140000])\n",
    "plt.title(\"Data Engineer\")\n",
    "plt.xlabel(\"Company Sizes\", fontweight='bold', fontsize='15')\n",
    "\n",
    "\n",
    "#plot for Data Analyst\n",
    "plt.subplot(1,3,3)\n",
    "plt.bar(df_DA2.index,df_DA2['salary_in_usd'])\n",
    "\n",
    "plt.yticks([20000,40000,60000,80000,100000,120000,140000])\n",
    "plt.title(\"Data Analyst\")\n",
    "\n",
    "\n",
    "plt.show()"
   ]
  },
  {
   "cell_type": "markdown",
   "id": "297150ba",
   "metadata": {},
   "source": [
    "In the above graphs, Medium-sized companies have the best opportunities for the top 3 data job roles salary-wise."
   ]
  },
  {
   "cell_type": "code",
   "execution_count": null,
   "id": "98dbfd8a",
   "metadata": {},
   "outputs": [],
   "source": []
  }
 ],
 "metadata": {
  "kernelspec": {
   "display_name": "Python 3 (ipykernel)",
   "language": "python",
   "name": "python3"
  },
  "language_info": {
   "codemirror_mode": {
    "name": "ipython",
    "version": 3
   },
   "file_extension": ".py",
   "mimetype": "text/x-python",
   "name": "python",
   "nbconvert_exporter": "python",
   "pygments_lexer": "ipython3",
   "version": "3.8.6"
  }
 },
 "nbformat": 4,
 "nbformat_minor": 5
}
